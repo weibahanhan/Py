{
 "cells": [
  {
   "cell_type": "markdown",
   "id": "ee974156-e996-49a1-9191-884f1a01d83f",
   "metadata": {},
   "source": [
    "Machine Learning in python: building a Linear Regression Model (scikit-learn)"
   ]
  },
  {
   "cell_type": "markdown",
   "id": "f037be85-fb92-466c-8a85-19be5371e5ee",
   "metadata": {
    "tags": []
   },
   "source": [
    "# 1.Import Libaries\n",
    "\n",
    "\n"
   ]
  },
  {
   "cell_type": "code",
   "execution_count": 300,
   "id": "bd94ee43-7aa8-4a5c-a080-56dec473cdf2",
   "metadata": {},
   "outputs": [],
   "source": [
    "import pandas as pd\n",
    "import numpy as np\n",
    "import seaborn as sns"
   ]
  },
  {
   "cell_type": "code",
   "execution_count": 301,
   "id": "951ed272-de6a-4b79-8b51-0d14c8c5db22",
   "metadata": {},
   "outputs": [],
   "source": [
    "import matplotlib.pyplot as plt\n",
    "plt.style.use('ggplot')\n",
    "\n",
    "%matplotlib inline\n",
    "\n",
    "plt.rcParams['figure.figsize']=(12,8)"
   ]
  },
  {
   "cell_type": "code",
   "execution_count": 302,
   "id": "ea028f6c-af38-442b-a096-bee9081b8480",
   "metadata": {},
   "outputs": [],
   "source": [
    "from sklearn import linear_model\n",
    "from sklearn import datasets\n",
    "from sklearn.metrics import mean_squared_error,r2_score"
   ]
  },
  {
   "cell_type": "code",
   "execution_count": null,
   "id": "174f6af1-cdfa-494e-bf8c-d8fe8128d5c3",
   "metadata": {},
   "outputs": [],
   "source": []
  },
  {
   "cell_type": "markdown",
   "id": "a068916f-73dc-4078-8739-e2bdbb10cf05",
   "metadata": {
    "tags": []
   },
   "source": [
    "# 2. Load the data"
   ]
  },
  {
   "cell_type": "code",
   "execution_count": 303,
   "id": "79f0c1fc-a972-4604-91a5-a3a1663e1a5a",
   "metadata": {},
   "outputs": [
    {
     "data": {
      "text/html": [
       "<div>\n",
       "<style scoped>\n",
       "    .dataframe tbody tr th:only-of-type {\n",
       "        vertical-align: middle;\n",
       "    }\n",
       "\n",
       "    .dataframe tbody tr th {\n",
       "        vertical-align: top;\n",
       "    }\n",
       "\n",
       "    .dataframe thead th {\n",
       "        text-align: right;\n",
       "    }\n",
       "</style>\n",
       "<table border=\"1\" class=\"dataframe\">\n",
       "  <thead>\n",
       "    <tr style=\"text-align: right;\">\n",
       "      <th></th>\n",
       "      <th>days</th>\n",
       "      <th>cogm</th>\n",
       "    </tr>\n",
       "  </thead>\n",
       "  <tbody>\n",
       "    <tr>\n",
       "      <th>0</th>\n",
       "      <td>8.708947</td>\n",
       "      <td>153.056126</td>\n",
       "    </tr>\n",
       "    <tr>\n",
       "      <th>1</th>\n",
       "      <td>9.219345</td>\n",
       "      <td>143.096624</td>\n",
       "    </tr>\n",
       "    <tr>\n",
       "      <th>2</th>\n",
       "      <td>8.755849</td>\n",
       "      <td>135.071196</td>\n",
       "    </tr>\n",
       "    <tr>\n",
       "      <th>3</th>\n",
       "      <td>8.960474</td>\n",
       "      <td>118.556770</td>\n",
       "    </tr>\n",
       "    <tr>\n",
       "      <th>4</th>\n",
       "      <td>8.706457</td>\n",
       "      <td>109.471316</td>\n",
       "    </tr>\n",
       "  </tbody>\n",
       "</table>\n",
       "</div>"
      ],
      "text/plain": [
       "       days        cogm\n",
       "0  8.708947  153.056126\n",
       "1  9.219345  143.096624\n",
       "2  8.755849  135.071196\n",
       "3  8.960474  118.556770\n",
       "4  8.706457  109.471316"
      ]
     },
     "execution_count": 303,
     "metadata": {},
     "output_type": "execute_result"
    }
   ],
   "source": [
    "data = pd.read_excel('INVDAYS7019.XLSX')\n",
    "data.head()"
   ]
  },
  {
   "cell_type": "code",
   "execution_count": 304,
   "id": "df5579fe-376a-44b4-a2e2-adacd3471f89",
   "metadata": {},
   "outputs": [
    {
     "name": "stdout",
     "output_type": "stream",
     "text": [
      "<class 'pandas.core.frame.DataFrame'>\n",
      "RangeIndex: 42 entries, 0 to 41\n",
      "Data columns (total 2 columns):\n",
      " #   Column  Non-Null Count  Dtype  \n",
      "---  ------  --------------  -----  \n",
      " 0   days    42 non-null     float64\n",
      " 1   cogm    42 non-null     float64\n",
      "dtypes: float64(2)\n",
      "memory usage: 800.0 bytes\n"
     ]
    }
   ],
   "source": [
    "data.info()"
   ]
  },
  {
   "cell_type": "markdown",
   "id": "0afd6ded-6ed3-4198-90f0-74eb0635f18e",
   "metadata": {},
   "source": [
    "X=data['cogm'].values\n",
    "Y=data['days'].values"
   ]
  },
  {
   "cell_type": "markdown",
   "id": "1d8dacb8-0fe8-4b93-bd25-fd47976b3d0e",
   "metadata": {},
   "source": [
    "# 3.Visualize the data"
   ]
  },
  {
   "cell_type": "code",
   "execution_count": null,
   "id": "64abb9a7-8071-474f-aae9-0b2fdd5ffaf0",
   "metadata": {},
   "outputs": [],
   "source": []
  },
  {
   "cell_type": "code",
   "execution_count": 305,
   "id": "463e6529-926a-4f6d-add1-40252887fd48",
   "metadata": {},
   "outputs": [
    {
     "data": {
      "image/png": "[encoded data removed]",
      "text/plain": [
       "<Figure size 864x576 with 1 Axes>"
      ]
     },
     "metadata": {
      "needs_background": "light"
     },
     "output_type": "display_data"
    }
   ],
   "source": [
    " ax = sns.scatterplot( x=\"cogm\", y=\"days\",data=data)\n",
    " ax.set_title(\"days vs cogm\");\n"
   ]
  },
  {
   "cell_type": "code",
   "execution_count": null,
   "id": "c5e8e6df-7484-40b0-b2b9-71c171e4ff15",
   "metadata": {},
   "outputs": [],
   "source": []
  },
  {
   "cell_type": "markdown",
   "id": "5a468299-ceba-45cb-b6a5-20a1e23c7681",
   "metadata": {},
   "source": [
    "# 4. Split the data into training/tesing sets"
   ]
  },
  {
   "cell_type": "code",
   "execution_count": 306,
   "id": "90c08575-5464-4bf2-971d-a30370763abc",
   "metadata": {},
   "outputs": [],
   "source": [
    "from sklearn.model_selection import train_test_split\n",
    "\n",
    "X_train, X_test,Y_train,Y_test = train_test_split(X,Y,test_size=0.2)\n",
    "X_train= X_train.reshape(-1, 1)\n",
    "Y_train= Y_train.reshape(-1, 1)\n",
    "X_test = X_test.reshape(-1, 1)"
   ]
  },
  {
   "cell_type": "code",
   "execution_count": null,
   "id": "6d7b73ff-c8c2-457a-84e3-1d2cb925c85f",
   "metadata": {},
   "outputs": [],
   "source": []
  },
  {
   "cell_type": "markdown",
   "id": "4f65456f-7323-44df-9c12-aa77e454d8d7",
   "metadata": {},
   "source": [
    "# 5. Create linear regression object\n"
   ]
  },
  {
   "cell_type": "code",
   "execution_count": 307,
   "id": "3e0b77f2-6a95-4376-abf5-e9260bf8f20c",
   "metadata": {},
   "outputs": [],
   "source": [
    "model = linear_model.LinearRegression()\n"
   ]
  },
  {
   "cell_type": "markdown",
   "id": "ad096597-a978-45bc-ab86-5684fd077909",
   "metadata": {},
   "source": [
    "# 6. Train the model using the training sets"
   ]
  },
  {
   "cell_type": "code",
   "execution_count": 308,
   "id": "7c4b4915-3856-4880-88e9-926a54e6127c",
   "metadata": {},
   "outputs": [
    {
     "data": {
      "text/plain": [
       "LinearRegression()"
      ]
     },
     "execution_count": 308,
     "metadata": {},
     "output_type": "execute_result"
    }
   ],
   "source": [
    "model.fit(X_train,Y_train)"
   ]
  },
  {
   "cell_type": "markdown",
   "id": "b15e38ad-fa76-4807-9010-1b54befbf48e",
   "metadata": {},
   "source": [
    "# 7. Make predictions using the test set"
   ]
  },
  {
   "cell_type": "code",
   "execution_count": 309,
   "id": "c669d418-9725-42c8-93fa-484a49deb9f4",
   "metadata": {},
   "outputs": [],
   "source": [
    "Y_pred = model.predict(X_test)\n"
   ]
  },
  {
   "cell_type": "code",
   "execution_count": 310,
   "id": "fc22b9e7-62ca-4350-87b8-662598a452a3",
   "metadata": {},
   "outputs": [
    {
     "name": "stdout",
     "output_type": "stream",
     "text": [
      "[[ 8.70894686]\n",
      " [ 8.96047435]\n",
      " [10.66910266]\n",
      " [10.88238744]\n",
      " [ 8.7753309 ]\n",
      " [11.14307889]\n",
      " [11.71234754]\n",
      " [ 9.66928835]\n",
      " [10.18695325]]\n",
      "[[ 7.84455042]\n",
      " [ 8.8327651 ]\n",
      " [10.33770552]\n",
      " [11.20524474]\n",
      " [ 9.68755342]\n",
      " [10.77425736]\n",
      " [11.52535551]\n",
      " [10.34839982]\n",
      " [10.04722828]]\n"
     ]
    }
   ],
   "source": [
    "#print (X_train)\n",
    "#print (Y_train)\n",
    "#print (X_test)\n",
    "print (Y_test)\n",
    "print (Y_pred)"
   ]
  },
  {
   "cell_type": "code",
   "execution_count": null,
   "id": "1dcbdce9-2e35-4e86-8c8a-59e723ddc367",
   "metadata": {},
   "outputs": [],
   "source": []
  },
  {
   "cell_type": "markdown",
   "id": "228579b9-2ea6-4b33-b420-0883e0934dd8",
   "metadata": {},
   "source": [
    "# Print model performance\n"
   ]
  },
  {
   "cell_type": "code",
   "execution_count": 311,
   "id": "3bc17d55-2b80-425a-ba5c-024d39a1eef6",
   "metadata": {},
   "outputs": [
    {
     "name": "stdout",
     "output_type": "stream",
     "text": [
      "Coefficients: [[-0.02864444]]\n",
      "Intercept [12.22875722]\n",
      "Mean squared error (MES): 0.27\n",
      "Coefficient of determination (R^2): 0.75\n"
     ]
    }
   ],
   "source": [
    "print('Coefficients:',model.coef_)\n",
    "print('Intercept',model.intercept_)\n",
    "print('Mean squared error (MES): %.2f' % mean_squared_error(Y_test,Y_pred))\n",
    "print('Coefficient of determination (R^2): %.2f' %r2_score(Y_test,Y_pred))"
   ]
  },
  {
   "cell_type": "markdown",
   "id": "64fea4e9-a382-4b5f-9061-9071f7104fa5",
   "metadata": {},
   "source": [
    "y=-0.029*x+12.2"
   ]
  },
  {
   "cell_type": "markdown",
   "id": "4c42873f-9a25-42dd-bc1f-92ffcede98d8",
   "metadata": {},
   "source": [
    "# Plot output"
   ]
  },
  {
   "cell_type": "code",
   "execution_count": 312,
   "id": "b81d3091-e34f-4df8-8a09-0a49c05d2bcf",
   "metadata": {},
   "outputs": [
    {
     "data": {
      "text/plain": [
       "[<matplotlib.lines.Line2D at 0x295077bb610>]"
      ]
     },
     "execution_count": 312,
     "metadata": {},
     "output_type": "execute_result"
    },
    {
     "data": {
      "image/png": "[encoded data removed]",
      "text/plain": [
       "<Figure size 864x576 with 1 Axes>"
      ]
     },
     "metadata": {
      "needs_background": "light"
     },
     "output_type": "display_data"
    }
   ],
   "source": [
    " ax = sns.scatterplot( x=\"cogm\", y=\"days\",data=data)\n",
    " ax.set_title(\"days vs cogm\");\n",
    "\n",
    "plt.scatter(X_test,Y_test,color='green',marker='+', alpha=0.9)\n",
    "plt.scatter(X_test,Y_pred,color = 'black',marker='+',alpha=0.9)\n",
    "plt.plot(X_test, Y_pred, color='blue',linewidth=3)\n",
    "#plt.plot( X,-0.029*X+12.2,color='red')"
   ]
  },
  {
   "cell_type": "code",
   "execution_count": null,
   "id": "45a83450-a1a8-4a4d-b2dd-7b572c0cff45",
   "metadata": {},
   "outputs": [],
   "source": []
  },
  {
   "cell_type": "code",
   "execution_count": null,
   "id": "b6dc666b-bff8-403e-9581-6521fdd73dbc",
   "metadata": {},
   "outputs": [],
   "source": []
  },
  {
   "cell_type": "code",
   "execution_count": null,
   "id": "35ed7e2e-7a43-4ac6-ac52-e379f8769593",
   "metadata": {},
   "outputs": [],
   "source": []
  },
  {
   "cell_type": "code",
   "execution_count": null,
   "id": "1566747a-d43f-41b8-892c-d34e33b1c8af",
   "metadata": {},
   "outputs": [],
   "source": []
  },
  {
   "cell_type": "code",
   "execution_count": null,
   "id": "c4654432-c546-406a-8dc9-e8833e4a0969",
   "metadata": {},
   "outputs": [],
   "source": []
  }
 ],
 "metadata": {
  "kernelspec": {
   "display_name": "Python 3 (ipykernel)",
   "language": "python",
   "name": "python3"
  },
  "language_info": {
   "codemirror_mode": {
    "name": "ipython",
    "version": 3
   },
   "file_extension": ".py",
   "mimetype": "text/x-python",
   "name": "python",
   "nbconvert_exporter": "python",
   "pygments_lexer": "ipython3",
   "version": "3.9.6"
  }
 },
 "nbformat": 4,
 "nbformat_minor": 5
}
